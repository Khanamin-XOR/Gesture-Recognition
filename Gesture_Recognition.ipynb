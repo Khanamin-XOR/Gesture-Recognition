{
  "nbformat": 4,
  "nbformat_minor": 0,
  "metadata": {
    "colab": {
      "name": "Gesture Recognition",
      "provenance": [],
      "machine_shape": "hm"
    },
    "kernelspec": {
      "name": "python3",
      "display_name": "Python 3"
    },
    "language_info": {
      "name": "python"
    }
  },
  "cells": [
    {
      "cell_type": "markdown",
      "metadata": {
        "id": "vVJT9XgmO5CI"
      },
      "source": [
        "# **Gesture Recognition**\n",
        "Imagine you are working as a data scientist at a home electronics company that manufactures state of the art smart televisions. You want to develop a cool feature in the smart-TV that can recognise five different gestures performed by the user which will help users control the TV without using a remote.\n",
        "\n",
        "\n",
        "---\n",
        "\n",
        "\n",
        " \n",
        "\n",
        "The gestures are continuously monitored by the webcam mounted on the TV. Each gesture corresponds to a specific command:\n",
        "\n",
        "1. Thumbs up:  Increase the volume\n",
        "2. Thumbs down: Decrease the volume\n",
        "3. Left swipe: 'Jump' backwards 10 seconds\n",
        "4. Right swipe: 'Jump' forward 10 seconds  \n",
        "5. Stop: Pause the movie\n",
        "\n",
        "## **Business constraint**\n",
        "1. Infrence time should be very low."
      ]
    },
    {
      "cell_type": "markdown",
      "metadata": {
        "id": "TWwL_wLMPu5N"
      },
      "source": [
        "## 1. Getting Data into Drive"
      ]
    },
    {
      "cell_type": "code",
      "metadata": {
        "id": "CXsZpcN8PrRs"
      },
      "source": [
        "!wget --header=\"Host: doc-10-ao-docs.googleusercontent.com\" --header=\"User-Agent: Mozilla/5.0 (Windows NT 10.0; Win64; x64) AppleWebKit/537.36 (KHTML, like Gecko) Chrome/93.0.4577.82 Safari/537.36\" --header=\"Accept: text/html,application/xhtml+xml,application/xml;q=0.9,image/avif,image/webp,image/apng,*/*;q=0.8,application/signed-exchange;v=b3;q=0.9\" --header=\"Accept-Language: en-US,en;q=0.9\" --header=\"Referer: https://drive.google.com/\" --header=\"Cookie: AUTH_unm0q6n476f32h7ago3jna292l2crup9_nonce=ata74920ilveu\" --header=\"Connection: keep-alive\" \"https://doc-10-ao-docs.googleusercontent.com/docs/securesc/ocj5g5i98smf7h037l8383nkr1imnpof/l2gi5ib4rav5grbpsigrm8i23j3etnvq/1632150750000/10375629365358872077/14165932214061485598/1ehyrYBQ5rbQQe6yL4XbLWe3FMvuVUGiL?e=download&authuser=0&nonce=ata74920ilveu&user=14165932214061485598&hash=3namt58s0h6gejanok8donlst74c7gim\" -c -O 'Project_data.zip'"
      ],
      "execution_count": null,
      "outputs": []
    },
    {
      "cell_type": "code",
      "metadata": {
        "id": "C8KM-IH-Pzwt"
      },
      "source": [
        "!unzip \"/content/Project_data.zip\""
      ],
      "execution_count": null,
      "outputs": []
    },
    {
      "cell_type": "code",
      "metadata": {
        "id": "zu49w5QUX4DD"
      },
      "source": [
        "!pip install scipy==1.1.0"
      ],
      "execution_count": null,
      "outputs": []
    },
    {
      "cell_type": "code",
      "metadata": {
        "id": "Bn7qFVhRY7NQ"
      },
      "source": [
        "import warnings\n",
        "warnings.filterwarnings(\"ignore\", category=DeprecationWarning) "
      ],
      "execution_count": 5,
      "outputs": []
    },
    {
      "cell_type": "markdown",
      "metadata": {
        "id": "3YOnAmN1P4z9"
      },
      "source": [
        "## 2. Data Generator"
      ]
    },
    {
      "cell_type": "code",
      "metadata": {
        "id": "3DyRcHPPP3l9"
      },
      "source": [
        "import scipy\n",
        "import numpy as np\n",
        "import os\n",
        "from scipy.misc import *\n",
        "import datetime\n",
        "import os"
      ],
      "execution_count": 6,
      "outputs": []
    },
    {
      "cell_type": "code",
      "metadata": {
        "id": "oOqtjDK-QAeF"
      },
      "source": [
        "np.random.seed(30)\n",
        "import random as rn\n",
        "rn.seed(30)\n",
        "from keras import backend as K\n",
        "import tensorflow as tf\n",
        "tf.random.set_seed(30)"
      ],
      "execution_count": 7,
      "outputs": []
    },
    {
      "cell_type": "code",
      "metadata": {
        "id": "pt4aCH-mQA1l"
      },
      "source": [
        "train_doc = np.random.permutation(open('/content/Project_data/train.csv').readlines())\n",
        "val_doc = np.random.permutation(open('/content/Project_data/val.csv').readlines())\n",
        "batch_size = 2"
      ],
      "execution_count": 8,
      "outputs": []
    },
    {
      "cell_type": "code",
      "metadata": {
        "id": "-q1Roy0-QESd"
      },
      "source": [
        "frames = 30 # x is the number of images you use for each video\n",
        "height = 64; width = 64; # the final size of the input images\n",
        "channel = 3 #RGB\n",
        "classes = 5 #5 gestures"
      ],
      "execution_count": 9,
      "outputs": []
    },
    {
      "cell_type": "code",
      "metadata": {
        "id": "w0eF_bnAQKCF"
      },
      "source": [
        "\n",
        "def generator(source_path, folder_list, batch_size):\n",
        "    print( 'Source path = ', source_path, '; batch size =', batch_size)\n",
        "    img_idx = list(range(0,x)) #create a list of image numbers you want to use for a particular video\n",
        "    while True:\n",
        "        t = np.random.permutation(folder_list)\n",
        "        num_batches = len(folder_list)//batch_size # calculate the number of batches\n",
        "        for batch in range(num_batches): # we iterate over the number of batches\n",
        "            batch_data = np.zeros((batch_size, x, y, z, channel)) # x is the number of images you use for each video, (y,z) is the final size of the input images and 3 is the number of channels RGB\n",
        "            batch_labels = np.zeros((batch_size, 5)) # batch_labels is the one hot representation of the output\n",
        "            for folder in range(batch_size): # iterate over the batch_size\n",
        "                imgs = os.listdir(source_path+'/'+ t[folder + (batch*batch_size)].split(';')[0]) # read all the images in the folder\n",
        "                for idx,item in enumerate(img_idx): #  Iterate iver the frames/images of a folder to read them in\n",
        "                    image = imread(source_path+'/'+ t[folder + (batch*batch_size)].strip().split(';')[0]+'/'+imgs[item]).astype(np.float32)\n",
        "                    \n",
        "                    #crop the images and resize them. Note that the images are of 2 different shape \n",
        "                    #and the conv3D will throw error if the inputs in a batch have different shapes\n",
        "                    temp = imresize(image,(y,z))\n",
        "                    temp = temp/255 #Normalize data\n",
        "                    \n",
        "                    batch_data[folder,idx,:,:,0] = temp[:,:,0] #normalise and feed in the image\n",
        "                    batch_data[folder,idx,:,:,1] = temp[:,:,1] #normalise and feed in the image\n",
        "                    batch_data[folder,idx,:,:,2] = temp[:,:,2] #normalise and feed in the image\n",
        "                    \n",
        "                batch_labels[folder, int(t[folder + (batch*batch_size)].strip().split(';')[2])] = 1\n",
        "            yield batch_data, batch_labels #you yield the batch_data and the batch_labels, remember what does yield do\n",
        "\n",
        "        \n",
        "        # write the code for the remaining data points which are left after full batches\n",
        "\n",
        "        if (len(folder_list) != batch_size*num_batches):\n",
        "            print(\"Batch: \",num_batches+1,\"Index:\", batch_size)\n",
        "            batch_size = len(folder_list) - (batch_size*num_batches)\n",
        "            batch_data = np.zeros((batch_size,x,y,z,channel)) # x is the number of images you use for each video, (y,z) is the final size of the input images and 3 is the number of channels RGB\n",
        "            batch_labels = np.zeros((batch_size,5)) # batch_labels is the one hot representation of the output\n",
        "            for folder in range(batch_size): # iterate over the batch_size\n",
        "                imgs = os.listdir(source_path+'/'+ t[folder + (batch*batch_size)].split(';')[0]) # read all the images in the folder\n",
        "                for idx,item in enumerate(img_idx): #  Iterate iver the frames/images of a folder to read them in\n",
        "                    image = imread(source_path+'/'+ t[folder + (batch*batch_size)].strip().split(';')[0]+'/'+imgs[item]).astype(np.float32)\n",
        "                    \n",
        "                    #crop the images and resize them. Note that the images are of 2 different shape \n",
        "                    #and the conv3D will throw error if the inputs in a batch have different shapes\n",
        "                    temp = imresize(image,(y,z))\n",
        "                    temp = temp/255 #Normalize data\n",
        "                    \n",
        "                    batch_data[folder,idx,:,:,0] = temp[:,:,0]\n",
        "                    batch_data[folder,idx,:,:,1] = temp[:,:,1]\n",
        "                    batch_data[folder,idx,:,:,2] = temp[:,:,2]\n",
        "                   \n",
        "                batch_labels[folder, int(t[folder + (batch*batch_size)].strip().split(';')[2])] = 1\n",
        "            yield batch_data, batch_labels"
      ],
      "execution_count": 49,
      "outputs": []
    },
    {
      "cell_type": "code",
      "metadata": {
        "colab": {
          "base_uri": "https://localhost:8080/",
          "height": 0
        },
        "id": "smJBSwJ6QLvk",
        "outputId": "09397742-ee90-4572-b49a-15ccfb34fc7d"
      },
      "source": [
        "curr_dt_time = datetime.datetime.now()\n",
        "train_path = \"/content/Project_data/train\"\n",
        "val_path = '/content/Project_data/val'\n",
        "num_train_sequences = len(train_doc)\n",
        "print('# training sequences =', num_train_sequences)\n",
        "num_val_sequences = len(val_doc)\n",
        "print('# validation sequences =', num_val_sequences)\n",
        "num_epochs = 20  # choose the number of epochs\n",
        "print ('# epochs =', num_epochs)\n"
      ],
      "execution_count": 11,
      "outputs": [
        {
          "output_type": "stream",
          "name": "stdout",
          "text": [
            "# training sequences = 663\n",
            "# validation sequences = 100\n",
            "# epochs = 20\n"
          ]
        }
      ]
    },
    {
      "cell_type": "code",
      "metadata": {
        "id": "U7KelnOXQsyw"
      },
      "source": [
        "train_generator = generator(train_path, train_doc, batch_size)\n",
        "val_generator = generator(val_path, val_doc, batch_size)\n"
      ],
      "execution_count": 13,
      "outputs": []
    },
    {
      "cell_type": "markdown",
      "metadata": {
        "id": "Ie7ZhcPqQcLk"
      },
      "source": [
        "## 3. Model-1 3D convolution Model"
      ]
    },
    {
      "cell_type": "code",
      "metadata": {
        "id": "WOHPogbcQb6M"
      },
      "source": [
        "from keras.models import Sequential, Model\n",
        "from keras.layers import Dense, GRU, Flatten,\\\n",
        "                         TimeDistributed, BatchNormalization,\\\n",
        "                         Activation, Dropout, Input, MaxPool3D,\\\n",
        "                         MaxPool2D\n",
        "from keras.layers.convolutional import Conv3D, MaxPooling3D\n",
        "from keras.callbacks import ModelCheckpoint, ReduceLROnPlateau, EarlyStopping\n",
        "from keras import optimizers\n",
        "from keras.models import Model\n"
      ],
      "execution_count": 21,
      "outputs": []
    },
    {
      "cell_type": "code",
      "metadata": {
        "id": "EqZMAKhAQ6mT"
      },
      "source": [
        "def Model_1():\n",
        "    input_layer = Input((x, y, z, channel))\n",
        "    # convolutional layers\n",
        "    conv_layer1 = Conv3D(filters=16, kernel_size=(3, 3, 3),\n",
        "                         activation='relu',\n",
        "                         kernel_initializer='he_normal',\n",
        "                         padding='same',\n",
        "                         name='Conv_1')(input_layer)\n",
        "    pooling_layer1 = MaxPool3D(pool_size=(2, 2, 2))(conv_layer1)\n",
        "    conv_layer2 = Conv3D(filters=32, kernel_size=(3, 3, 3),\n",
        "                         activation='relu',\n",
        "                         kernel_initializer='he_normal',\n",
        "                         padding='same')(pooling_layer1)\n",
        "    pooling_layer2 = MaxPool3D(pool_size=(2, 2, 2))(conv_layer2)\n",
        "\n",
        "    conv_layer3 = Conv3D(filters=64, kernel_size=(3, 3, 3),\n",
        "                         activation='relu',\n",
        "                         kernel_initializer='he_normal',\n",
        "                         padding='same',\n",
        "                         kernel_regularizer='l2')(pooling_layer2)\n",
        "    pooling_layer3 = MaxPool3D(pool_size=(2, 2, 2))(conv_layer3)\n",
        "\n",
        "    conv_layer4 = Conv3D(filters=128, kernel_size=(3, 3, 3), activation='relu',\n",
        "                         kernel_initializer='he_normal',\n",
        "                         padding='same',\n",
        "                         kernel_regularizer='l2')(pooling_layer3)\n",
        "    pooling_layer4 = MaxPool3D(pool_size=(2, 2, 2))(conv_layer4)\n",
        "\n",
        "    flatten_layer = Flatten()(pooling_layer4)\n",
        "    dense_layer1 = Dense(units=128,\n",
        "                         activation='relu',\n",
        "                         kernel_initializer='he_normal')(flatten_layer)\n",
        "    dense_layer2 = Dense(units=64,\n",
        "                         activation='relu',\n",
        "                         kernel_initializer='he_normal')(dense_layer1)\n",
        "\n",
        "    output_layer = Dense(units=5, activation='softmax')(dense_layer2)\n",
        "    model = Model(inputs=input_layer, outputs=output_layer)\n",
        "    return model\n",
        "    "
      ],
      "execution_count": 15,
      "outputs": []
    },
    {
      "cell_type": "code",
      "metadata": {
        "colab": {
          "base_uri": "https://localhost:8080/",
          "height": 0
        },
        "id": "DmTULR2dScfL",
        "outputId": "691391c6-f98c-4c23-930e-3cc8758119ed"
      },
      "source": [
        "K.clear_session()\n",
        "model = Model_1()\n",
        "model.summary()"
      ],
      "execution_count": 16,
      "outputs": [
        {
          "output_type": "stream",
          "name": "stdout",
          "text": [
            "Model: \"model\"\n",
            "_________________________________________________________________\n",
            "Layer (type)                 Output Shape              Param #   \n",
            "=================================================================\n",
            "input_1 (InputLayer)         [(None, 30, 64, 64, 3)]   0         \n",
            "_________________________________________________________________\n",
            "Conv_1 (Conv3D)              (None, 30, 64, 64, 16)    1312      \n",
            "_________________________________________________________________\n",
            "max_pooling3d (MaxPooling3D) (None, 15, 32, 32, 16)    0         \n",
            "_________________________________________________________________\n",
            "conv3d (Conv3D)              (None, 15, 32, 32, 32)    13856     \n",
            "_________________________________________________________________\n",
            "max_pooling3d_1 (MaxPooling3 (None, 7, 16, 16, 32)     0         \n",
            "_________________________________________________________________\n",
            "conv3d_1 (Conv3D)            (None, 7, 16, 16, 64)     55360     \n",
            "_________________________________________________________________\n",
            "max_pooling3d_2 (MaxPooling3 (None, 3, 8, 8, 64)       0         \n",
            "_________________________________________________________________\n",
            "conv3d_2 (Conv3D)            (None, 3, 8, 8, 128)      221312    \n",
            "_________________________________________________________________\n",
            "max_pooling3d_3 (MaxPooling3 (None, 1, 4, 4, 128)      0         \n",
            "_________________________________________________________________\n",
            "flatten (Flatten)            (None, 2048)              0         \n",
            "_________________________________________________________________\n",
            "dense (Dense)                (None, 128)               262272    \n",
            "_________________________________________________________________\n",
            "dense_1 (Dense)              (None, 64)                8256      \n",
            "_________________________________________________________________\n",
            "dense_2 (Dense)              (None, 5)                 325       \n",
            "=================================================================\n",
            "Total params: 562,693\n",
            "Trainable params: 562,693\n",
            "Non-trainable params: 0\n",
            "_________________________________________________________________\n"
          ]
        }
      ]
    },
    {
      "cell_type": "code",
      "metadata": {
        "id": "6eSv0UNFT0ks"
      },
      "source": [
        "def Train_Model_1():\n",
        "    optimiser = tf.keras.optimizers.Adam(0.0001, amsgrad=True)\n",
        "    mertics = tf.keras.metrics.CategoricalAccuracy(name='acc')\n",
        "\n",
        "    model.compile(optimizer=optimiser,\n",
        "                  loss='categorical_crossentropy',\n",
        "                  metrics=mertics)\n",
        "\n",
        "    filepath = '/content/Models/Model_1.h5'\n",
        "\n",
        "    checkpoint = ModelCheckpoint(filepath,\n",
        "                                 monitor='val_loss',\n",
        "                                 verbose=1,\n",
        "                                 save_best_only=True,\n",
        "                                 save_weights_only=False,\n",
        "                                 mode='min')\n",
        "\n",
        "    ER = EarlyStopping(\n",
        "        monitor=\"val_loss\",\n",
        "        patience=10,\n",
        "        verbose=1,\n",
        "        mode=\"min\",\n",
        "        baseline=None,\n",
        "        restore_best_weights=True\n",
        "    )\n",
        "    # write the REducelronplateau code here\n",
        "    LR = ReduceLROnPlateau(monitor='val_loss',\n",
        "                           factor=0.3,\n",
        "                           patience=5,\n",
        "                           verbose=1)\n",
        "\n",
        "    callbacks_list = [checkpoint, LR, ER]\n",
        "\n",
        "    if (num_train_sequences % batch_size) == 0:\n",
        "        steps_per_epoch = int(num_train_sequences/batch_size)\n",
        "    else:\n",
        "        steps_per_epoch = (num_train_sequences//batch_size) + 1\n",
        "\n",
        "    if (num_val_sequences % batch_size) == 0:\n",
        "        validation_steps = int(num_val_sequences/batch_size)\n",
        "    else:\n",
        "        validation_steps = (num_val_sequences//batch_size) + 1\n",
        "\n",
        "    history = model.fit(train_generator,\n",
        "                        steps_per_epoch=steps_per_epoch,\n",
        "                        epochs=num_epochs, verbose=1,\n",
        "                        callbacks=callbacks_list,\n",
        "                        validation_data=val_generator,\n",
        "                        validation_steps=validation_steps,\n",
        "                        class_weight=None, workers=1,\n",
        "                        initial_epoch=0)\n",
        "    return history\n"
      ],
      "execution_count": 17,
      "outputs": []
    },
    {
      "cell_type": "code",
      "metadata": {
        "colab": {
          "base_uri": "https://localhost:8080/",
          "height": 0
        },
        "id": "Z9hVX4HJYfH0",
        "outputId": "1fb6288b-7724-4eec-b999-5e1029735bf6"
      },
      "source": [
        "history = Train_Model_1()"
      ],
      "execution_count": 18,
      "outputs": [
        {
          "output_type": "stream",
          "name": "stdout",
          "text": [
            "Source path =  /content/Project_data/train ; batch size = 2\n",
            "Epoch 1/20\n",
            "330/332 [============================>.] - ETA: 0s - loss: 4.7546 - acc: 0.2530Batch:  332 Index: 2\n",
            "332/332 [==============================] - ETA: 0s - loss: 4.7520 - acc: 0.2534Source path =  /content/Project_data/val ; batch size = 2\n",
            "332/332 [==============================] - 101s 253ms/step - loss: 4.7520 - acc: 0.2534 - val_loss: 4.0407 - val_acc: 0.3400\n",
            "\n",
            "Epoch 00001: val_loss improved from inf to 4.04070, saving model to /content/Models/Model_1.h5\n",
            "Epoch 2/20\n",
            "332/332 [==============================] - 49s 148ms/step - loss: 3.8132 - acc: 0.3705 - val_loss: 3.4185 - val_acc: 0.5200\n",
            "\n",
            "Epoch 00002: val_loss improved from 4.04070 to 3.41855, saving model to /content/Models/Model_1.h5\n",
            "Epoch 3/20\n",
            "332/332 [==============================] - 49s 148ms/step - loss: 3.3243 - acc: 0.4066 - val_loss: 3.1072 - val_acc: 0.3800\n",
            "\n",
            "Epoch 00003: val_loss improved from 3.41855 to 3.10716, saving model to /content/Models/Model_1.h5\n",
            "Epoch 4/20\n",
            "332/332 [==============================] - 49s 147ms/step - loss: 2.9285 - acc: 0.4880 - val_loss: 2.8216 - val_acc: 0.4500\n",
            "\n",
            "Epoch 00004: val_loss improved from 3.10716 to 2.82162, saving model to /content/Models/Model_1.h5\n",
            "Epoch 5/20\n",
            "332/332 [==============================] - 49s 149ms/step - loss: 2.6573 - acc: 0.5633 - val_loss: 2.4251 - val_acc: 0.6800\n",
            "\n",
            "Epoch 00005: val_loss improved from 2.82162 to 2.42507, saving model to /content/Models/Model_1.h5\n",
            "Epoch 6/20\n",
            "332/332 [==============================] - 49s 147ms/step - loss: 2.3268 - acc: 0.6536 - val_loss: 2.2869 - val_acc: 0.6400\n",
            "\n",
            "Epoch 00006: val_loss improved from 2.42507 to 2.28689, saving model to /content/Models/Model_1.h5\n",
            "Epoch 7/20\n",
            "332/332 [==============================] - 48s 146ms/step - loss: 2.1485 - acc: 0.6657 - val_loss: 1.9886 - val_acc: 0.7400\n",
            "\n",
            "Epoch 00007: val_loss improved from 2.28689 to 1.98861, saving model to /content/Models/Model_1.h5\n",
            "Epoch 8/20\n",
            "332/332 [==============================] - 48s 145ms/step - loss: 1.9341 - acc: 0.7440 - val_loss: 1.9088 - val_acc: 0.7000\n",
            "\n",
            "Epoch 00008: val_loss improved from 1.98861 to 1.90882, saving model to /content/Models/Model_1.h5\n",
            "Epoch 9/20\n",
            "332/332 [==============================] - 49s 148ms/step - loss: 1.7427 - acc: 0.7620 - val_loss: 1.9298 - val_acc: 0.6500\n",
            "\n",
            "Epoch 00009: val_loss did not improve from 1.90882\n",
            "Epoch 10/20\n",
            "332/332 [==============================] - 46s 140ms/step - loss: 1.6597 - acc: 0.7922 - val_loss: 1.8560 - val_acc: 0.7600\n",
            "\n",
            "Epoch 00010: val_loss improved from 1.90882 to 1.85599, saving model to /content/Models/Model_1.h5\n",
            "Epoch 11/20\n",
            "332/332 [==============================] - 49s 149ms/step - loss: 1.5884 - acc: 0.7952 - val_loss: 1.7418 - val_acc: 0.7100\n",
            "\n",
            "Epoch 00011: val_loss improved from 1.85599 to 1.74182, saving model to /content/Models/Model_1.h5\n",
            "Epoch 12/20\n",
            "332/332 [==============================] - 48s 144ms/step - loss: 1.4155 - acc: 0.8313 - val_loss: 1.5660 - val_acc: 0.7600\n",
            "\n",
            "Epoch 00012: val_loss improved from 1.74182 to 1.56600, saving model to /content/Models/Model_1.h5\n",
            "Epoch 13/20\n",
            "332/332 [==============================] - 49s 147ms/step - loss: 1.4119 - acc: 0.8072 - val_loss: 1.4610 - val_acc: 0.7300\n",
            "\n",
            "Epoch 00013: val_loss improved from 1.56600 to 1.46097, saving model to /content/Models/Model_1.h5\n",
            "Epoch 14/20\n",
            "332/332 [==============================] - 48s 145ms/step - loss: 1.1998 - acc: 0.8886 - val_loss: 1.5084 - val_acc: 0.7300\n",
            "\n",
            "Epoch 00014: val_loss did not improve from 1.46097\n",
            "Epoch 15/20\n",
            "332/332 [==============================] - 48s 145ms/step - loss: 1.2557 - acc: 0.8614 - val_loss: 1.3318 - val_acc: 0.8100\n",
            "\n",
            "Epoch 00015: val_loss improved from 1.46097 to 1.33182, saving model to /content/Models/Model_1.h5\n",
            "Epoch 16/20\n",
            "332/332 [==============================] - 48s 144ms/step - loss: 1.0727 - acc: 0.9127 - val_loss: 1.2910 - val_acc: 0.8100\n",
            "\n",
            "Epoch 00016: val_loss improved from 1.33182 to 1.29097, saving model to /content/Models/Model_1.h5\n",
            "Epoch 17/20\n",
            "332/332 [==============================] - 47s 143ms/step - loss: 1.0823 - acc: 0.8795 - val_loss: 1.2134 - val_acc: 0.8200\n",
            "\n",
            "Epoch 00017: val_loss improved from 1.29097 to 1.21337, saving model to /content/Models/Model_1.h5\n",
            "Epoch 18/20\n",
            "332/332 [==============================] - 48s 144ms/step - loss: 0.9802 - acc: 0.9217 - val_loss: 1.3369 - val_acc: 0.7000\n",
            "\n",
            "Epoch 00018: val_loss did not improve from 1.21337\n",
            "Epoch 19/20\n",
            "332/332 [==============================] - 47s 143ms/step - loss: 0.9630 - acc: 0.9307 - val_loss: 1.2486 - val_acc: 0.7900\n",
            "\n",
            "Epoch 00019: val_loss did not improve from 1.21337\n",
            "Epoch 20/20\n",
            "332/332 [==============================] - 47s 142ms/step - loss: 0.8897 - acc: 0.9307 - val_loss: 1.3291 - val_acc: 0.7500\n",
            "\n",
            "Epoch 00020: val_loss did not improve from 1.21337\n"
          ]
        }
      ]
    },
    {
      "cell_type": "code",
      "metadata": {
        "colab": {
          "base_uri": "https://localhost:8080/",
          "height": 279
        },
        "id": "P82G9BI5Y_6P",
        "outputId": "473384c9-c3ff-496b-a474-2233478a0d9e"
      },
      "source": [
        "import matplotlib.pyplot as plt\n",
        "fig, axes = plt.subplots(nrows=1, ncols=2, figsize=(15, 4))\n",
        "axes[0].plot(history.history['loss'])\n",
        "axes[0].plot(history.history['val_loss'])\n",
        "axes[0].legend(['loss', 'val_loss'])\n",
        "plt.ylabel('Loss')\n",
        "plt.xlabel('Epoch')\n",
        "axes[1].plot(history.history['acc'])\n",
        "axes[1].plot(history.history['val_acc'])\n",
        "axes[1].legend(['acc', 'val_acc'])\n",
        "plt.ylabel('Accuracy')\n",
        "plt.xlabel('Epoch')\n",
        "plt.show()\n"
      ],
      "execution_count": 19,
      "outputs": [
        {
          "output_type": "display_data",
          "data": {
            "image/png": "[encoded data removed]",
            "text/plain": [
              "<Figure size 1080x288 with 2 Axes>"
            ]
          },
          "metadata": {
            "needs_background": "light"
          }
        }
      ]
    },
    {
      "cell_type": "markdown",
      "metadata": {
        "id": "lc8IBu_Nh_tE"
      },
      "source": [
        "## Model-2 CNN+RNN"
      ]
    },
    {
      "cell_type": "code",
      "metadata": {
        "id": "77nIRKRghDtd"
      },
      "source": [
        "from keras.layers.convolutional import Conv2D, MaxPooling2D\n",
        "from keras.layers.recurrent import LSTM, GRU\n"
      ],
      "execution_count": 140,
      "outputs": []
    },
    {
      "cell_type": "code",
      "metadata": {
        "id": "KzPLA0USiG5K"
      },
      "source": [
        "# Initiakize the required parameters\n",
        "batch_size = 10\n",
        "num_epochs = 50\n",
        "x = 30 # x is the number of images you use for each video\n",
        "y = 150; z = 150; # (y,z) is the final size of the input images\n",
        "channel = 3 #RGB\n",
        "classes = 5 #5 gestures"
      ],
      "execution_count": 259,
      "outputs": []
    },
    {
      "cell_type": "code",
      "metadata": {
        "id": "keY9HSp4PPQF"
      },
      "source": [
        "train_generator = generator(train_path, train_doc, batch_size)\n",
        "val_generator = generator(val_path, val_doc, batch_size)\n"
      ],
      "execution_count": 260,
      "outputs": []
    },
    {
      "cell_type": "code",
      "metadata": {
        "colab": {
          "base_uri": "https://localhost:8080/",
          "height": 0
        },
        "id": "S2IHkg6-6UnY",
        "outputId": "6ae6fc89-3462-4413-b997-af6ccec92d0e"
      },
      "source": [
        "backbone =tf.keras.applications.DenseNet121(\n",
        "    include_top=False,\n",
        "    weights=\"imagenet\",\n",
        "    input_shape=(150,150,3),\n",
        "    pooling='max',\n",
        ")"
      ],
      "execution_count": 261,
      "outputs": [
        {
          "output_type": "stream",
          "name": "stdout",
          "text": [
            "Downloading data from https://storage.googleapis.com/tensorflow/keras-applications/densenet/densenet121_weights_tf_dim_ordering_tf_kernels_notop.h5\n",
            "29089792/29084464 [==============================] - 0s 0us/step\n",
            "29097984/29084464 [==============================] - 0s 0us/step\n"
          ]
        }
      ]
    },
    {
      "cell_type": "code",
      "metadata": {
        "id": "l0zeQQZEjIIA"
      },
      "source": [
        "backbone.trainable=True"
      ],
      "execution_count": 270,
      "outputs": []
    },
    {
      "cell_type": "code",
      "metadata": {
        "colab": {
          "base_uri": "https://localhost:8080/",
          "height": 0
        },
        "id": "UoYMKK2SmHe-",
        "outputId": "74848f1d-1223-4c6b-db5d-42448988b5b1"
      },
      "source": [
        "len(backbone.layers)"
      ],
      "execution_count": 271,
      "outputs": [
        {
          "output_type": "execute_result",
          "data": {
            "text/plain": [
              "428"
            ]
          },
          "metadata": {},
          "execution_count": 271
        }
      ]
    },
    {
      "cell_type": "code",
      "metadata": {
        "id": "XRf3qzFKO0x2"
      },
      "source": [
        "for layer in backbone.layers[:400]:\n",
        "  layer.trainable =  False"
      ],
      "execution_count": 278,
      "outputs": []
    },
    {
      "cell_type": "code",
      "metadata": {
        "id": "BTlhK7swiXh-"
      },
      "source": [
        "# Model declaration\n",
        "def Model_2():\n",
        "    model_2 = Sequential()\n",
        "    model_2.add(TimeDistributed(backbone, input_shape=(x, y, z, channel)))\n",
        "    model_2.add(BatchNormalization())\n",
        "    model_2.add(TimeDistributed(Flatten()))\n",
        "    model_2.add(GRU(16, return_sequences=True))\n",
        "    model_2.add(GRU(32, return_sequences=True))\n",
        "    model_2.add(GRU(64, return_sequences=True))\n",
        "    model_2.add(GRU(128, return_sequences=False))\n",
        "    model_2.add(Dense(16, activation='relu',\n",
        "                kernel_regularizer='l2',\n",
        "                kernel_initializer=\"he_normal\"))\n",
        "    model_2.add(Dense(32, activation='relu',\n",
        "                kernel_regularizer='l2',\n",
        "                kernel_initializer=\"he_normal\"))\n",
        "    model_2.add(Dense(64, activation='relu',\n",
        "                kernel_regularizer='l2',\n",
        "                kernel_initializer=\"he_normal\"))\n",
        "    model_2.add(Dense(128, activation='relu',\n",
        "                kernel_regularizer='l2',\n",
        "                kernel_initializer=\"he_normal\"))\n",
        "    model_2.add(Dropout(0.5))\n",
        "    model_2.add(Dense(classes, activation='softmax'))\n",
        "    return model_2\n"
      ],
      "execution_count": 279,
      "outputs": []
    },
    {
      "cell_type": "code",
      "metadata": {
        "colab": {
          "base_uri": "https://localhost:8080/",
          "height": 0
        },
        "id": "42BL8UHRO1F9",
        "outputId": "8bb9cc3b-6942-42c5-b267-d762d17b8034"
      },
      "source": [
        "tf.keras.backend.clear_session()\n",
        "K.clear_session()\n",
        "model_2 = Model_2()\n",
        "model_2.summary()"
      ],
      "execution_count": 280,
      "outputs": [
        {
          "output_type": "stream",
          "name": "stdout",
          "text": [
            "Model: \"sequential\"\n",
            "_________________________________________________________________\n",
            "Layer (type)                 Output Shape              Param #   \n",
            "=================================================================\n",
            "time_distributed (TimeDistri (None, 30, 1024)          7037504   \n",
            "_________________________________________________________________\n",
            "batch_normalization (BatchNo (None, 30, 1024)          4096      \n",
            "_________________________________________________________________\n",
            "time_distributed_1 (TimeDist (None, 30, 1024)          0         \n",
            "_________________________________________________________________\n",
            "gru (GRU)                    (None, 30, 16)            49968     \n",
            "_________________________________________________________________\n",
            "gru_1 (GRU)                  (None, 30, 32)            4704      \n",
            "_________________________________________________________________\n",
            "gru_2 (GRU)                  (None, 30, 64)            18624     \n",
            "_________________________________________________________________\n",
            "gru_3 (GRU)                  (None, 128)               74112     \n",
            "_________________________________________________________________\n",
            "dense (Dense)                (None, 16)                2064      \n",
            "_________________________________________________________________\n",
            "dense_1 (Dense)              (None, 32)                544       \n",
            "_________________________________________________________________\n",
            "dense_2 (Dense)              (None, 64)                2112      \n",
            "_________________________________________________________________\n",
            "dense_3 (Dense)              (None, 128)               8320      \n",
            "_________________________________________________________________\n",
            "dropout (Dropout)            (None, 128)               0         \n",
            "_________________________________________________________________\n",
            "dense_4 (Dense)              (None, 5)                 645       \n",
            "=================================================================\n",
            "Total params: 7,202,693\n",
            "Trainable params: 688,069\n",
            "Non-trainable params: 6,514,624\n",
            "_________________________________________________________________\n"
          ]
        }
      ]
    },
    {
      "cell_type": "code",
      "metadata": {
        "id": "aj_oo5Elii0i"
      },
      "source": [
        "import logging\n",
        "import os\n",
        "logging.disable(logging.WARNING)\n",
        "os.environ[\"TF_CPP_MIN_LOG_LEVEL\"] = \"3\"\n",
        "import tensorflow as tf\n",
        "\n",
        "\n",
        "def Train_Model_2():\n",
        "    optimiser = tf.keras.optimizers.Adam(learning_rate=1e-4)\n",
        "    mertics = tf.keras.metrics.CategoricalAccuracy(name='acc')\n",
        "\n",
        "    model_2.compile(optimizer=optimiser,\n",
        "                    loss='categorical_crossentropy',\n",
        "                    metrics=mertics)\n",
        "    filepath = '/content/Models/Model_CNN_RNN.h5'\n",
        "\n",
        "    checkpoint = ModelCheckpoint(filepath,\n",
        "                                 monitor='val_loss', verbose=1,\n",
        "                                 save_best_only=True,\n",
        "                                 save_weights_only=False,\n",
        "                                 mode='min')\n",
        "    ER = EarlyStopping(\n",
        "        monitor=\"val_loss\",\n",
        "        patience=15,\n",
        "        verbose=1,\n",
        "        mode=\"min\",\n",
        "        baseline=None,\n",
        "        restore_best_weights=True,\n",
        "    )\n",
        "    LR = ReduceLROnPlateau(monitor='val_loss',\n",
        "                           factor=0.3, patience=5,\n",
        "                           verbose=1)\n",
        "    callbacks_list = [checkpoint, LR, ER]\n",
        "    batch_size = 16\n",
        "    if (num_train_sequences % batch_size) == 0:\n",
        "        steps_per_epoch = int(num_train_sequences/batch_size)\n",
        "    else:\n",
        "        steps_per_epoch = (num_train_sequences//batch_size) + 1\n",
        "\n",
        "    if (num_val_sequences % batch_size) == 0:\n",
        "        validation_steps = int(num_val_sequences/batch_size)\n",
        "    else:\n",
        "        validation_steps = (num_val_sequences//batch_size) + 1\n",
        "\n",
        "    history = model_2.fit(train_generator,\n",
        "                          steps_per_epoch=steps_per_epoch,\n",
        "                          epochs=100, verbose=1,\n",
        "                          callbacks=callbacks_list,\n",
        "                          validation_data=val_generator,\n",
        "                          validation_steps=validation_steps,\n",
        "                          class_weight=None, workers=1,\n",
        "                          initial_epoch=0)\n",
        "    return history\n"
      ],
      "execution_count": 281,
      "outputs": []
    },
    {
      "cell_type": "code",
      "metadata": {
        "colab": {
          "base_uri": "https://localhost:8080/",
          "height": 0
        },
        "id": "1emjwf6LpAcy",
        "outputId": "edb74bfd-220e-453a-e9ee-0c0d1311d624"
      },
      "source": [
        "history_2 = Train_Model_2()"
      ],
      "execution_count": 282,
      "outputs": [
        {
          "output_type": "stream",
          "name": "stdout",
          "text": [
            "Source path =  /content/Project_data/train ; batch size = 10\n",
            "Epoch 1/100\n",
            "42/42 [==============================] - ETA: 0s - loss: 6.4001 - acc: 0.2262Source path =  /content/Project_data/val ; batch size = 10\n",
            "42/42 [==============================] - 78s 1s/step - loss: 6.4001 - acc: 0.2262 - val_loss: 6.3242 - val_acc: 0.3571\n",
            "\n",
            "Epoch 00001: val_loss improved from inf to 6.32416, saving model to /content/Models/Model_CNN_RNN.h5\n",
            "Epoch 2/100\n",
            "23/42 [===============>..............] - ETA: 21s - loss: 6.2973 - acc: 0.2000Batch:  67 Index: 10\n",
            "42/42 [==============================] - 46s 1s/step - loss: 6.2707 - acc: 0.2313 - val_loss: 6.1510 - val_acc: 0.3286\n",
            "\n",
            "Epoch 00002: val_loss improved from 6.32416 to 6.15105, saving model to /content/Models/Model_CNN_RNN.h5\n",
            "Epoch 3/100\n",
            "42/42 [==============================] - 29s 702ms/step - loss: 6.1320 - acc: 0.2143 - val_loss: 5.9052 - val_acc: 0.4143\n",
            "\n",
            "Epoch 00003: val_loss improved from 6.15105 to 5.90523, saving model to /content/Models/Model_CNN_RNN.h5\n",
            "Epoch 4/100\n",
            "42/42 [==============================] - 30s 725ms/step - loss: 5.9252 - acc: 0.4286 - val_loss: 5.8277 - val_acc: 0.3429\n",
            "\n",
            "Epoch 00004: val_loss improved from 5.90523 to 5.82772, saving model to /content/Models/Model_CNN_RNN.h5\n",
            "Epoch 5/100\n",
            "42/42 [==============================] - 29s 702ms/step - loss: 5.6942 - acc: 0.4603 - val_loss: 5.6180 - val_acc: 0.4571\n",
            "\n",
            "Epoch 00005: val_loss improved from 5.82772 to 5.61798, saving model to /content/Models/Model_CNN_RNN.h5\n",
            "Epoch 6/100\n",
            "42/42 [==============================] - 30s 719ms/step - loss: 5.6475 - acc: 0.3492 - val_loss: 5.4912 - val_acc: 0.4857\n",
            "\n",
            "Epoch 00006: val_loss improved from 5.61798 to 5.49119, saving model to /content/Models/Model_CNN_RNN.h5\n",
            "Epoch 7/100\n",
            "42/42 [==============================] - 30s 724ms/step - loss: 5.5265 - acc: 0.3810 - val_loss: 5.3749 - val_acc: 0.4429\n",
            "\n",
            "Epoch 00007: val_loss improved from 5.49119 to 5.37492, saving model to /content/Models/Model_CNN_RNN.h5\n",
            "Epoch 8/100\n",
            "42/42 [==============================] - 29s 697ms/step - loss: 5.3265 - acc: 0.4603 - val_loss: 5.1256 - val_acc: 0.4714\n",
            "\n",
            "Epoch 00008: val_loss improved from 5.37492 to 5.12558, saving model to /content/Models/Model_CNN_RNN.h5\n",
            "Epoch 9/100\n",
            "42/42 [==============================] - 30s 729ms/step - loss: 5.1583 - acc: 0.4841 - val_loss: 4.9502 - val_acc: 0.5429\n",
            "\n",
            "Epoch 00009: val_loss improved from 5.12558 to 4.95021, saving model to /content/Models/Model_CNN_RNN.h5\n",
            "Epoch 10/100\n",
            "42/42 [==============================] - 30s 712ms/step - loss: 5.1438 - acc: 0.4683 - val_loss: 4.8438 - val_acc: 0.5286\n",
            "\n",
            "Epoch 00010: val_loss improved from 4.95021 to 4.84382, saving model to /content/Models/Model_CNN_RNN.h5\n",
            "Epoch 11/100\n",
            "42/42 [==============================] - 30s 731ms/step - loss: 5.0156 - acc: 0.4524 - val_loss: 4.7232 - val_acc: 0.6286\n",
            "\n",
            "Epoch 00011: val_loss improved from 4.84382 to 4.72320, saving model to /content/Models/Model_CNN_RNN.h5\n",
            "Epoch 12/100\n",
            "42/42 [==============================] - 30s 718ms/step - loss: 4.7593 - acc: 0.5556 - val_loss: 4.4644 - val_acc: 0.6714\n",
            "\n",
            "Epoch 00012: val_loss improved from 4.72320 to 4.46439, saving model to /content/Models/Model_CNN_RNN.h5\n",
            "Epoch 13/100\n",
            "42/42 [==============================] - 29s 691ms/step - loss: 4.7080 - acc: 0.5873 - val_loss: 4.3871 - val_acc: 0.7714\n",
            "\n",
            "Epoch 00013: val_loss improved from 4.46439 to 4.38712, saving model to /content/Models/Model_CNN_RNN.h5\n",
            "Epoch 14/100\n",
            "42/42 [==============================] - 31s 746ms/step - loss: 4.5963 - acc: 0.5794 - val_loss: 4.3467 - val_acc: 0.7286\n",
            "\n",
            "Epoch 00014: val_loss improved from 4.38712 to 4.34669, saving model to /content/Models/Model_CNN_RNN.h5\n",
            "Epoch 15/100\n",
            "42/42 [==============================] - 29s 698ms/step - loss: 4.5016 - acc: 0.5952 - val_loss: 4.2473 - val_acc: 0.6714\n",
            "\n",
            "Epoch 00015: val_loss improved from 4.34669 to 4.24734, saving model to /content/Models/Model_CNN_RNN.h5\n",
            "Epoch 16/100\n",
            "42/42 [==============================] - 30s 720ms/step - loss: 4.3803 - acc: 0.5794 - val_loss: 4.0817 - val_acc: 0.7571\n",
            "\n",
            "Epoch 00016: val_loss improved from 4.24734 to 4.08167, saving model to /content/Models/Model_CNN_RNN.h5\n",
            "Epoch 17/100\n",
            "42/42 [==============================] - 30s 732ms/step - loss: 4.4032 - acc: 0.5476 - val_loss: 3.9263 - val_acc: 0.7286\n",
            "\n",
            "Epoch 00017: val_loss improved from 4.08167 to 3.92634, saving model to /content/Models/Model_CNN_RNN.h5\n",
            "Epoch 18/100\n",
            "42/42 [==============================] - 30s 713ms/step - loss: 4.2022 - acc: 0.6270 - val_loss: 3.8479 - val_acc: 0.7429\n",
            "\n",
            "Epoch 00018: val_loss improved from 3.92634 to 3.84791, saving model to /content/Models/Model_CNN_RNN.h5\n",
            "Epoch 19/100\n",
            "42/42 [==============================] - 30s 714ms/step - loss: 4.0424 - acc: 0.6825 - val_loss: 3.7831 - val_acc: 0.7714\n",
            "\n",
            "Epoch 00019: val_loss improved from 3.84791 to 3.78311, saving model to /content/Models/Model_CNN_RNN.h5\n",
            "Epoch 20/100\n",
            "42/42 [==============================] - 29s 701ms/step - loss: 4.0119 - acc: 0.6508 - val_loss: 3.8013 - val_acc: 0.6714\n",
            "\n",
            "Epoch 00020: val_loss did not improve from 3.78311\n",
            "Epoch 21/100\n",
            "42/42 [==============================] - 30s 730ms/step - loss: 3.9882 - acc: 0.6508 - val_loss: 3.5803 - val_acc: 0.7571\n",
            "\n",
            "Epoch 00021: val_loss improved from 3.78311 to 3.58026, saving model to /content/Models/Model_CNN_RNN.h5\n",
            "Epoch 22/100\n",
            "42/42 [==============================] - 29s 704ms/step - loss: 3.7775 - acc: 0.6984 - val_loss: 3.6439 - val_acc: 0.8143\n",
            "\n",
            "Epoch 00022: val_loss did not improve from 3.58026\n",
            "Epoch 23/100\n",
            "42/42 [==============================] - 30s 717ms/step - loss: 3.9762 - acc: 0.6032 - val_loss: 3.5750 - val_acc: 0.7857\n",
            "\n",
            "Epoch 00023: val_loss improved from 3.58026 to 3.57496, saving model to /content/Models/Model_CNN_RNN.h5\n",
            "Epoch 24/100\n",
            "42/42 [==============================] - 30s 719ms/step - loss: 3.8191 - acc: 0.7063 - val_loss: 3.4941 - val_acc: 0.7857\n",
            "\n",
            "Epoch 00024: val_loss improved from 3.57496 to 3.49405, saving model to /content/Models/Model_CNN_RNN.h5\n",
            "Epoch 25/100\n",
            "42/42 [==============================] - 29s 701ms/step - loss: 3.6850 - acc: 0.6746 - val_loss: 3.4338 - val_acc: 0.7714\n",
            "\n",
            "Epoch 00025: val_loss improved from 3.49405 to 3.43384, saving model to /content/Models/Model_CNN_RNN.h5\n",
            "Epoch 26/100\n",
            "42/42 [==============================] - 30s 712ms/step - loss: 3.6548 - acc: 0.6587 - val_loss: 3.3483 - val_acc: 0.7714\n",
            "\n",
            "Epoch 00026: val_loss improved from 3.43384 to 3.34828, saving model to /content/Models/Model_CNN_RNN.h5\n",
            "Epoch 27/100\n",
            "42/42 [==============================] - 30s 714ms/step - loss: 3.5374 - acc: 0.6825 - val_loss: 3.3137 - val_acc: 0.8143\n",
            "\n",
            "Epoch 00027: val_loss improved from 3.34828 to 3.31373, saving model to /content/Models/Model_CNN_RNN.h5\n",
            "Epoch 28/100\n",
            "42/42 [==============================] - 29s 707ms/step - loss: 3.5324 - acc: 0.6270 - val_loss: 3.2124 - val_acc: 0.8143\n",
            "\n",
            "Epoch 00028: val_loss improved from 3.31373 to 3.21238, saving model to /content/Models/Model_CNN_RNN.h5\n",
            "Epoch 29/100\n",
            "42/42 [==============================] - 29s 707ms/step - loss: 3.2510 - acc: 0.7619 - val_loss: 3.1949 - val_acc: 0.7857\n",
            "\n",
            "Epoch 00029: val_loss improved from 3.21238 to 3.19494, saving model to /content/Models/Model_CNN_RNN.h5\n",
            "Epoch 30/100\n",
            "42/42 [==============================] - 29s 706ms/step - loss: 3.4003 - acc: 0.6825 - val_loss: 3.2218 - val_acc: 0.7714\n",
            "\n",
            "Epoch 00030: val_loss did not improve from 3.19494\n",
            "Epoch 31/100\n",
            "42/42 [==============================] - 29s 699ms/step - loss: 3.4579 - acc: 0.6667 - val_loss: 3.1327 - val_acc: 0.7714\n",
            "\n",
            "Epoch 00031: val_loss improved from 3.19494 to 3.13272, saving model to /content/Models/Model_CNN_RNN.h5\n",
            "Epoch 32/100\n",
            "42/42 [==============================] - 30s 710ms/step - loss: 3.2227 - acc: 0.7619 - val_loss: 3.0695 - val_acc: 0.7857\n",
            "\n",
            "Epoch 00032: val_loss improved from 3.13272 to 3.06951, saving model to /content/Models/Model_CNN_RNN.h5\n",
            "Epoch 33/100\n",
            "42/42 [==============================] - 31s 740ms/step - loss: 3.1377 - acc: 0.7698 - val_loss: 3.0595 - val_acc: 0.7143\n",
            "\n",
            "Epoch 00033: val_loss improved from 3.06951 to 3.05953, saving model to /content/Models/Model_CNN_RNN.h5\n",
            "Epoch 34/100\n",
            "42/42 [==============================] - 30s 723ms/step - loss: 3.1868 - acc: 0.7381 - val_loss: 2.9584 - val_acc: 0.9000\n",
            "\n",
            "Epoch 00034: val_loss improved from 3.05953 to 2.95835, saving model to /content/Models/Model_CNN_RNN.h5\n",
            "Epoch 35/100\n",
            "42/42 [==============================] - 29s 703ms/step - loss: 3.0729 - acc: 0.7460 - val_loss: 2.9667 - val_acc: 0.7571\n",
            "\n",
            "Epoch 00035: val_loss did not improve from 2.95835\n",
            "Epoch 36/100\n",
            "42/42 [==============================] - 30s 729ms/step - loss: 3.0013 - acc: 0.7540 - val_loss: 2.9281 - val_acc: 0.7714\n",
            "\n",
            "Epoch 00036: val_loss improved from 2.95835 to 2.92811, saving model to /content/Models/Model_CNN_RNN.h5\n",
            "Epoch 37/100\n",
            "42/42 [==============================] - 29s 687ms/step - loss: 3.0692 - acc: 0.7222 - val_loss: 2.9079 - val_acc: 0.7571\n",
            "\n",
            "Epoch 00037: val_loss improved from 2.92811 to 2.90789, saving model to /content/Models/Model_CNN_RNN.h5\n",
            "Epoch 38/100\n",
            "42/42 [==============================] - 30s 726ms/step - loss: 3.0105 - acc: 0.7143 - val_loss: 2.8318 - val_acc: 0.8429\n",
            "\n",
            "Epoch 00038: val_loss improved from 2.90789 to 2.83175, saving model to /content/Models/Model_CNN_RNN.h5\n",
            "Epoch 39/100\n",
            "42/42 [==============================] - 30s 716ms/step - loss: 2.8553 - acc: 0.7381 - val_loss: 2.7565 - val_acc: 0.7571\n",
            "\n",
            "Epoch 00039: val_loss improved from 2.83175 to 2.75649, saving model to /content/Models/Model_CNN_RNN.h5\n",
            "Epoch 40/100\n",
            "42/42 [==============================] - 29s 693ms/step - loss: 2.8435 - acc: 0.7778 - val_loss: 2.8235 - val_acc: 0.7714\n",
            "\n",
            "Epoch 00040: val_loss did not improve from 2.75649\n",
            "Epoch 41/100\n",
            "42/42 [==============================] - 30s 713ms/step - loss: 3.0378 - acc: 0.6825 - val_loss: 2.7127 - val_acc: 0.7857\n",
            "\n",
            "Epoch 00041: val_loss improved from 2.75649 to 2.71273, saving model to /content/Models/Model_CNN_RNN.h5\n",
            "Epoch 42/100\n",
            "42/42 [==============================] - 30s 708ms/step - loss: 2.8322 - acc: 0.7381 - val_loss: 2.7231 - val_acc: 0.7143\n",
            "\n",
            "Epoch 00042: val_loss did not improve from 2.71273\n",
            "Epoch 43/100\n",
            "42/42 [==============================] - 30s 732ms/step - loss: 2.8671 - acc: 0.7540 - val_loss: 2.7045 - val_acc: 0.8143\n",
            "\n",
            "Epoch 00043: val_loss improved from 2.71273 to 2.70453, saving model to /content/Models/Model_CNN_RNN.h5\n",
            "Epoch 44/100\n",
            "42/42 [==============================] - 29s 698ms/step - loss: 2.6407 - acc: 0.8333 - val_loss: 2.5745 - val_acc: 0.8143\n",
            "\n",
            "Epoch 00044: val_loss improved from 2.70453 to 2.57453, saving model to /content/Models/Model_CNN_RNN.h5\n",
            "Epoch 45/100\n",
            "42/42 [==============================] - 29s 707ms/step - loss: 2.6631 - acc: 0.7857 - val_loss: 2.6367 - val_acc: 0.7857\n",
            "\n",
            "Epoch 00045: val_loss did not improve from 2.57453\n",
            "Epoch 46/100\n",
            "42/42 [==============================] - 30s 718ms/step - loss: 2.5988 - acc: 0.7540 - val_loss: 2.5678 - val_acc: 0.7857\n",
            "\n",
            "Epoch 00046: val_loss improved from 2.57453 to 2.56782, saving model to /content/Models/Model_CNN_RNN.h5\n",
            "Epoch 47/100\n",
            "42/42 [==============================] - 30s 712ms/step - loss: 2.5986 - acc: 0.7778 - val_loss: 2.5745 - val_acc: 0.7857\n",
            "\n",
            "Epoch 00047: val_loss did not improve from 2.56782\n",
            "Epoch 48/100\n",
            "42/42 [==============================] - 30s 727ms/step - loss: 2.7034 - acc: 0.7540 - val_loss: 2.4866 - val_acc: 0.8000\n",
            "\n",
            "Epoch 00048: val_loss improved from 2.56782 to 2.48664, saving model to /content/Models/Model_CNN_RNN.h5\n",
            "Epoch 49/100\n",
            "42/42 [==============================] - 29s 700ms/step - loss: 2.6539 - acc: 0.7857 - val_loss: 2.4759 - val_acc: 0.8143\n",
            "\n",
            "Epoch 00049: val_loss improved from 2.48664 to 2.47590, saving model to /content/Models/Model_CNN_RNN.h5\n",
            "Epoch 50/100\n",
            "42/42 [==============================] - 29s 705ms/step - loss: 2.4844 - acc: 0.8492 - val_loss: 2.5116 - val_acc: 0.7429\n",
            "\n",
            "Epoch 00050: val_loss did not improve from 2.47590\n",
            "Epoch 51/100\n",
            "42/42 [==============================] - 30s 719ms/step - loss: 2.4161 - acc: 0.8095 - val_loss: 2.3544 - val_acc: 0.8143\n",
            "\n",
            "Epoch 00051: val_loss improved from 2.47590 to 2.35442, saving model to /content/Models/Model_CNN_RNN.h5\n",
            "Epoch 52/100\n",
            "42/42 [==============================] - 30s 714ms/step - loss: 2.5249 - acc: 0.7460 - val_loss: 2.4451 - val_acc: 0.7143\n",
            "\n",
            "Epoch 00052: val_loss did not improve from 2.35442\n",
            "Epoch 53/100\n",
            "42/42 [==============================] - 28s 682ms/step - loss: 2.4870 - acc: 0.7460 - val_loss: 2.4286 - val_acc: 0.8143\n",
            "\n",
            "Epoch 00053: val_loss did not improve from 2.35442\n",
            "Epoch 54/100\n",
            "42/42 [==============================] - 30s 730ms/step - loss: 2.4208 - acc: 0.7619 - val_loss: 2.4956 - val_acc: 0.7714\n",
            "\n",
            "Epoch 00054: val_loss did not improve from 2.35442\n",
            "Epoch 55/100\n",
            "42/42 [==============================] - 30s 717ms/step - loss: 2.4450 - acc: 0.7302 - val_loss: 2.3500 - val_acc: 0.8000\n",
            "\n",
            "Epoch 00055: val_loss improved from 2.35442 to 2.34995, saving model to /content/Models/Model_CNN_RNN.h5\n",
            "Epoch 56/100\n",
            "42/42 [==============================] - 30s 718ms/step - loss: 2.4008 - acc: 0.7460 - val_loss: 2.2969 - val_acc: 0.7429\n",
            "\n",
            "Epoch 00056: val_loss improved from 2.34995 to 2.29688, saving model to /content/Models/Model_CNN_RNN.h5\n",
            "Epoch 57/100\n",
            "42/42 [==============================] - 29s 703ms/step - loss: 2.4103 - acc: 0.7540 - val_loss: 2.3308 - val_acc: 0.8143\n",
            "\n",
            "Epoch 00057: val_loss did not improve from 2.29688\n",
            "Epoch 58/100\n",
            "42/42 [==============================] - 30s 730ms/step - loss: 2.1692 - acc: 0.8571 - val_loss: 2.2433 - val_acc: 0.7571\n",
            "\n",
            "Epoch 00058: val_loss improved from 2.29688 to 2.24326, saving model to /content/Models/Model_CNN_RNN.h5\n",
            "Epoch 59/100\n",
            "42/42 [==============================] - 30s 711ms/step - loss: 2.2269 - acc: 0.7937 - val_loss: 2.2947 - val_acc: 0.7714\n",
            "\n",
            "Epoch 00059: val_loss did not improve from 2.24326\n",
            "Epoch 60/100\n",
            "42/42 [==============================] - 29s 696ms/step - loss: 2.2452 - acc: 0.8095 - val_loss: 2.1507 - val_acc: 0.8143\n",
            "\n",
            "Epoch 00060: val_loss improved from 2.24326 to 2.15068, saving model to /content/Models/Model_CNN_RNN.h5\n",
            "Epoch 61/100\n",
            "42/42 [==============================] - 29s 697ms/step - loss: 2.2119 - acc: 0.7778 - val_loss: 2.1289 - val_acc: 0.8429\n",
            "\n",
            "Epoch 00061: val_loss improved from 2.15068 to 2.12889, saving model to /content/Models/Model_CNN_RNN.h5\n",
            "Epoch 62/100\n",
            "42/42 [==============================] - 31s 735ms/step - loss: 2.1646 - acc: 0.7937 - val_loss: 2.1611 - val_acc: 0.8000\n",
            "\n",
            "Epoch 00062: val_loss did not improve from 2.12889\n",
            "Epoch 63/100\n",
            "42/42 [==============================] - 29s 696ms/step - loss: 2.1556 - acc: 0.8016 - val_loss: 2.1013 - val_acc: 0.8143\n",
            "\n",
            "Epoch 00063: val_loss improved from 2.12889 to 2.10133, saving model to /content/Models/Model_CNN_RNN.h5\n",
            "Epoch 64/100\n",
            "42/42 [==============================] - 31s 745ms/step - loss: 2.1197 - acc: 0.8095 - val_loss: 2.0473 - val_acc: 0.7714\n",
            "\n",
            "Epoch 00064: val_loss improved from 2.10133 to 2.04734, saving model to /content/Models/Model_CNN_RNN.h5\n",
            "Epoch 65/100\n",
            "42/42 [==============================] - 29s 701ms/step - loss: 2.1141 - acc: 0.8095 - val_loss: 2.0183 - val_acc: 0.8429\n",
            "\n",
            "Epoch 00065: val_loss improved from 2.04734 to 2.01834, saving model to /content/Models/Model_CNN_RNN.h5\n",
            "Epoch 66/100\n",
            "42/42 [==============================] - 30s 726ms/step - loss: 2.0011 - acc: 0.8413 - val_loss: 2.0332 - val_acc: 0.7857\n",
            "\n",
            "Epoch 00066: val_loss did not improve from 2.01834\n",
            "Epoch 67/100\n",
            "42/42 [==============================] - 30s 719ms/step - loss: 2.0038 - acc: 0.8333 - val_loss: 2.0446 - val_acc: 0.7714\n",
            "\n",
            "Epoch 00067: val_loss did not improve from 2.01834\n",
            "Epoch 68/100\n",
            "42/42 [==============================] - 29s 695ms/step - loss: 2.0528 - acc: 0.8175 - val_loss: 2.1542 - val_acc: 0.6857\n",
            "\n",
            "Epoch 00068: val_loss did not improve from 2.01834\n",
            "Epoch 69/100\n",
            "42/42 [==============================] - 29s 692ms/step - loss: 2.1588 - acc: 0.7143 - val_loss: 1.9573 - val_acc: 0.8143\n",
            "\n",
            "Epoch 00069: val_loss improved from 2.01834 to 1.95731, saving model to /content/Models/Model_CNN_RNN.h5\n",
            "Epoch 70/100\n",
            "42/42 [==============================] - 30s 719ms/step - loss: 2.0333 - acc: 0.7619 - val_loss: 1.9141 - val_acc: 0.8286\n",
            "\n",
            "Epoch 00070: val_loss improved from 1.95731 to 1.91413, saving model to /content/Models/Model_CNN_RNN.h5\n",
            "Epoch 71/100\n",
            "42/42 [==============================] - 29s 698ms/step - loss: 1.9869 - acc: 0.8095 - val_loss: 1.9190 - val_acc: 0.8571\n",
            "\n",
            "Epoch 00071: val_loss did not improve from 1.91413\n",
            "Epoch 72/100\n",
            "42/42 [==============================] - 30s 714ms/step - loss: 1.9691 - acc: 0.7857 - val_loss: 1.8972 - val_acc: 0.8286\n",
            "\n",
            "Epoch 00072: val_loss improved from 1.91413 to 1.89717, saving model to /content/Models/Model_CNN_RNN.h5\n",
            "Epoch 73/100\n",
            "42/42 [==============================] - 29s 697ms/step - loss: 2.0076 - acc: 0.8016 - val_loss: 1.8199 - val_acc: 0.8857\n",
            "\n",
            "Epoch 00073: val_loss improved from 1.89717 to 1.81992, saving model to /content/Models/Model_CNN_RNN.h5\n",
            "Epoch 74/100\n",
            "42/42 [==============================] - 30s 710ms/step - loss: 1.8782 - acc: 0.8651 - val_loss: 1.8832 - val_acc: 0.8000\n",
            "\n",
            "Epoch 00074: val_loss did not improve from 1.81992\n",
            "Epoch 75/100\n",
            "42/42 [==============================] - 30s 722ms/step - loss: 1.8767 - acc: 0.8333 - val_loss: 1.9593 - val_acc: 0.7429\n",
            "\n",
            "Epoch 00075: val_loss did not improve from 1.81992\n",
            "Epoch 76/100\n",
            "42/42 [==============================] - 29s 703ms/step - loss: 1.8765 - acc: 0.8413 - val_loss: 1.8159 - val_acc: 0.8714\n",
            "\n",
            "Epoch 00076: val_loss improved from 1.81992 to 1.81590, saving model to /content/Models/Model_CNN_RNN.h5\n",
            "Epoch 77/100\n",
            "42/42 [==============================] - 31s 738ms/step - loss: 1.8020 - acc: 0.8492 - val_loss: 1.8143 - val_acc: 0.8000\n",
            "\n",
            "Epoch 00077: val_loss improved from 1.81590 to 1.81431, saving model to /content/Models/Model_CNN_RNN.h5\n",
            "Epoch 78/100\n",
            "42/42 [==============================] - 29s 708ms/step - loss: 1.8038 - acc: 0.8492 - val_loss: 1.9239 - val_acc: 0.7286\n",
            "\n",
            "Epoch 00078: val_loss did not improve from 1.81431\n",
            "Epoch 79/100\n",
            "42/42 [==============================] - 31s 733ms/step - loss: 1.7972 - acc: 0.8333 - val_loss: 1.8196 - val_acc: 0.8571\n",
            "\n",
            "Epoch 00079: val_loss did not improve from 1.81431\n",
            "Epoch 80/100\n",
            "42/42 [==============================] - 29s 694ms/step - loss: 1.7651 - acc: 0.8254 - val_loss: 1.8612 - val_acc: 0.8143\n",
            "\n",
            "Epoch 00080: val_loss did not improve from 1.81431\n",
            "Epoch 81/100\n",
            "42/42 [==============================] - 30s 716ms/step - loss: 1.7519 - acc: 0.8413 - val_loss: 1.8282 - val_acc: 0.8143\n",
            "\n",
            "Epoch 00081: val_loss did not improve from 1.81431\n",
            "Epoch 82/100\n",
            "42/42 [==============================] - 29s 698ms/step - loss: 1.7258 - acc: 0.8651 - val_loss: 1.7846 - val_acc: 0.8429\n",
            "\n",
            "Epoch 00082: val_loss improved from 1.81431 to 1.78464, saving model to /content/Models/Model_CNN_RNN.h5\n",
            "Epoch 83/100\n",
            "42/42 [==============================] - 30s 718ms/step - loss: 1.6956 - acc: 0.8889 - val_loss: 1.7166 - val_acc: 0.8429\n",
            "\n",
            "Epoch 00083: val_loss improved from 1.78464 to 1.71663, saving model to /content/Models/Model_CNN_RNN.h5\n",
            "Epoch 84/100\n",
            "42/42 [==============================] - 30s 714ms/step - loss: 1.6905 - acc: 0.8333 - val_loss: 1.7204 - val_acc: 0.8714\n",
            "\n",
            "Epoch 00084: val_loss did not improve from 1.71663\n",
            "Epoch 85/100\n",
            "42/42 [==============================] - 29s 701ms/step - loss: 1.6755 - acc: 0.8651 - val_loss: 1.7455 - val_acc: 0.8143\n",
            "\n",
            "Epoch 00085: val_loss did not improve from 1.71663\n",
            "Epoch 86/100\n",
            "42/42 [==============================] - 29s 702ms/step - loss: 1.6370 - acc: 0.8492 - val_loss: 1.6418 - val_acc: 0.8143\n",
            "\n",
            "Epoch 00086: val_loss improved from 1.71663 to 1.64178, saving model to /content/Models/Model_CNN_RNN.h5\n",
            "Epoch 87/100\n",
            "42/42 [==============================] - 30s 712ms/step - loss: 1.5814 - acc: 0.8889 - val_loss: 1.6171 - val_acc: 0.8286\n",
            "\n",
            "Epoch 00087: val_loss improved from 1.64178 to 1.61707, saving model to /content/Models/Model_CNN_RNN.h5\n",
            "Epoch 88/100\n",
            "42/42 [==============================] - 29s 706ms/step - loss: 1.6644 - acc: 0.8413 - val_loss: 1.6349 - val_acc: 0.8143\n",
            "\n",
            "Epoch 00088: val_loss did not improve from 1.61707\n",
            "Epoch 89/100\n",
            "42/42 [==============================] - 30s 711ms/step - loss: 1.5644 - acc: 0.8889 - val_loss: 1.7066 - val_acc: 0.8143\n",
            "\n",
            "Epoch 00089: val_loss did not improve from 1.61707\n",
            "Epoch 90/100\n",
            "42/42 [==============================] - 29s 698ms/step - loss: 1.6037 - acc: 0.8810 - val_loss: 1.5968 - val_acc: 0.8143\n",
            "\n",
            "Epoch 00090: val_loss improved from 1.61707 to 1.59684, saving model to /content/Models/Model_CNN_RNN.h5\n",
            "Epoch 91/100\n",
            "42/42 [==============================] - 29s 694ms/step - loss: 1.5540 - acc: 0.8889 - val_loss: 1.6238 - val_acc: 0.8143\n",
            "\n",
            "Epoch 00091: val_loss did not improve from 1.59684\n",
            "Epoch 92/100\n",
            "42/42 [==============================] - 31s 733ms/step - loss: 1.4698 - acc: 0.9286 - val_loss: 1.6500 - val_acc: 0.8143\n",
            "\n",
            "Epoch 00092: val_loss did not improve from 1.59684\n",
            "Epoch 93/100\n",
            "42/42 [==============================] - 29s 694ms/step - loss: 1.4842 - acc: 0.8810 - val_loss: 1.6791 - val_acc: 0.8286\n",
            "\n",
            "Epoch 00093: val_loss did not improve from 1.59684\n",
            "Epoch 94/100\n",
            "42/42 [==============================] - 30s 729ms/step - loss: 1.5597 - acc: 0.8413 - val_loss: 1.6680 - val_acc: 0.7714\n",
            "\n",
            "Epoch 00094: val_loss did not improve from 1.59684\n",
            "Epoch 95/100\n",
            "42/42 [==============================] - 29s 698ms/step - loss: 1.4523 - acc: 0.9127 - val_loss: 1.5548 - val_acc: 0.8571\n",
            "\n",
            "Epoch 00095: val_loss improved from 1.59684 to 1.55477, saving model to /content/Models/Model_CNN_RNN.h5\n",
            "Epoch 96/100\n",
            "42/42 [==============================] - 29s 700ms/step - loss: 1.4279 - acc: 0.9206 - val_loss: 1.5212 - val_acc: 0.8286\n",
            "\n",
            "Epoch 00096: val_loss improved from 1.55477 to 1.52118, saving model to /content/Models/Model_CNN_RNN.h5\n",
            "Epoch 97/100\n",
            "42/42 [==============================] - 30s 722ms/step - loss: 1.5962 - acc: 0.8810 - val_loss: 1.6350 - val_acc: 0.7857\n",
            "\n",
            "Epoch 00097: val_loss did not improve from 1.52118\n",
            "Epoch 98/100\n",
            "42/42 [==============================] - 28s 663ms/step - loss: 1.5388 - acc: 0.8810 - val_loss: 1.4497 - val_acc: 0.8571\n",
            "\n",
            "Epoch 00098: val_loss improved from 1.52118 to 1.44970, saving model to /content/Models/Model_CNN_RNN.h5\n",
            "Epoch 99/100\n",
            "42/42 [==============================] - 31s 734ms/step - loss: 1.4798 - acc: 0.9048 - val_loss: 1.4855 - val_acc: 0.8571\n",
            "\n",
            "Epoch 00099: val_loss did not improve from 1.44970\n",
            "Epoch 100/100\n",
            "42/42 [==============================] - 29s 704ms/step - loss: 1.4850 - acc: 0.9048 - val_loss: 1.4429 - val_acc: 0.8571\n",
            "\n",
            "Epoch 00100: val_loss improved from 1.44970 to 1.44291, saving model to /content/Models/Model_CNN_RNN.h5\n"
          ]
        }
      ]
    },
    {
      "cell_type": "code",
      "metadata": {
        "colab": {
          "base_uri": "https://localhost:8080/",
          "height": 279
        },
        "id": "RasVuTrbYL6x",
        "outputId": "9be78664-9261-4ed7-9528-f69f24d0faaf"
      },
      "source": [
        "import matplotlib.pyplot as plt\n",
        "fig, axes = plt.subplots(nrows=1, ncols=2, figsize=(15,4))\n",
        "axes[0].plot(history_2.history['loss'])   \n",
        "axes[0].plot(history_2.history['val_loss'])\n",
        "axes[0].legend(['loss','val_loss'])\n",
        "plt.ylabel('Loss')\n",
        "plt.xlabel('Epoch')\n",
        "axes[1].plot(history_2.history['acc'])   \n",
        "axes[1].plot(history_2.history['val_acc'])\n",
        "axes[1].legend(['acc','val_acc'])\n",
        "plt.ylabel('Accuracy')\n",
        "plt.xlabel('Epoch')\n",
        "plt.show()"
      ],
      "execution_count": 283,
      "outputs": [
        {
          "output_type": "display_data",
          "data": {
            "image/png": "[encoded data removed]",
            "text/plain": [
              "<Figure size 1080x288 with 2 Axes>"
            ]
          },
          "metadata": {
            "needs_background": "light"
          }
        }
      ]
    },
    {
      "cell_type": "markdown",
      "metadata": {
        "id": "h8j3F0seOxBJ"
      },
      "source": [
        "# **Conclusion**"
      ]
    },
    {
      "cell_type": "code",
      "metadata": {
        "colab": {
          "base_uri": "https://localhost:8080/",
          "height": 0
        },
        "id": "djmD78FNOzmu",
        "outputId": "a278e360-04b8-4101-b57f-a561acdf1e7e"
      },
      "source": [
        "from prettytable import PrettyTable\n",
        "  \n",
        "# Specify the Column Names while initializing the Table\n",
        "myTable = PrettyTable([\"Model Name\", \"Number of Trainable Parameters\", \"Epochs\",\"Accuracy\", \"Validation Accuracy\"])\n",
        "  \n",
        "# Add rows\n",
        "myTable.add_row([\"3D CNN\", \"562,693\",'20', \"93%\", \"75%\"])\n",
        "myTable.add_row([\"2D CNN + GRU\", \"688,069\",'100', \"90%\", \"85%\"])\n",
        "  \n",
        "print(myTable)"
      ],
      "execution_count": 3,
      "outputs": [
        {
          "output_type": "stream",
          "name": "stdout",
          "text": [
            "+--------------+--------------------------------+--------+----------+---------------------+\n",
            "|  Model Name  | Number of Trainable Parameters | Epochs | Accuracy | Validation Accuracy |\n",
            "+--------------+--------------------------------+--------+----------+---------------------+\n",
            "|    3D CNN    |            562,693             |   20   |   93%    |         75%         |\n",
            "| 2D CNN + GRU |            688,069             |  100   |   90%    |         85%         |\n",
            "+--------------+--------------------------------+--------+----------+---------------------+\n"
          ]
        }
      ]
    }
  ]
}